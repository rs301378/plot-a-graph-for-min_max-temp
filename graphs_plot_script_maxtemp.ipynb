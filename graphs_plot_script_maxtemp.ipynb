{
 "cells": [
  {
   "cell_type": "markdown",
   "metadata": {},
   "source": [
    "**Graph Plot**"
   ]
  },
  {
   "cell_type": "code",
   "execution_count": 1,
   "metadata": {},
   "outputs": [],
   "source": [
    "'''\n",
    "Author: Rohit Sharma\n",
    "Date: 19/01/2021\n",
    "'''\n",
    "import pandas as pd\n",
    "import matplotlib.pyplot as plt\n",
    "import seaborn as sn\n",
    "import numpy as np\n",
    "\n",
    "from sklearn.metrics import mean_squared_error\n",
    "import math"
   ]
  },
  {
   "cell_type": "code",
   "execution_count": 34,
   "metadata": {},
   "outputs": [
    {
     "data": {
      "text/html": [
       "<div>\n",
       "<style scoped>\n",
       "    .dataframe tbody tr th:only-of-type {\n",
       "        vertical-align: middle;\n",
       "    }\n",
       "\n",
       "    .dataframe tbody tr th {\n",
       "        vertical-align: top;\n",
       "    }\n",
       "\n",
       "    .dataframe thead th {\n",
       "        text-align: right;\n",
       "    }\n",
       "</style>\n",
       "<table border=\"1\" class=\"dataframe\">\n",
       "  <thead>\n",
       "    <tr style=\"text-align: right;\">\n",
       "      <th></th>\n",
       "      <th>lat</th>\n",
       "      <th>lon</th>\n",
       "      <th>ind_lat_lon</th>\n",
       "      <th>imd</th>\n",
       "      <th>IDW</th>\n",
       "      <th>bilinear</th>\n",
       "      <th>boxavg</th>\n",
       "      <th>aave</th>\n",
       "      <th>bessel</th>\n",
       "    </tr>\n",
       "  </thead>\n",
       "  <tbody>\n",
       "    <tr>\n",
       "      <th>0</th>\n",
       "      <td>7.5</td>\n",
       "      <td>93.5</td>\n",
       "      <td>0</td>\n",
       "      <td>31.815086</td>\n",
       "      <td>31.815086</td>\n",
       "      <td>NaN</td>\n",
       "      <td>31.815086</td>\n",
       "      <td>31.815086</td>\n",
       "      <td>NaN</td>\n",
       "    </tr>\n",
       "    <tr>\n",
       "      <th>1</th>\n",
       "      <td>7.5</td>\n",
       "      <td>94.0</td>\n",
       "      <td>0</td>\n",
       "      <td>31.819885</td>\n",
       "      <td>31.812988</td>\n",
       "      <td>NaN</td>\n",
       "      <td>31.815086</td>\n",
       "      <td>31.815086</td>\n",
       "      <td>NaN</td>\n",
       "    </tr>\n",
       "    <tr>\n",
       "      <th>2</th>\n",
       "      <td>8.0</td>\n",
       "      <td>77.0</td>\n",
       "      <td>1</td>\n",
       "      <td>32.734340</td>\n",
       "      <td>33.309700</td>\n",
       "      <td>NaN</td>\n",
       "      <td>33.309700</td>\n",
       "      <td>NaN</td>\n",
       "      <td>NaN</td>\n",
       "    </tr>\n",
       "    <tr>\n",
       "      <th>3</th>\n",
       "      <td>8.0</td>\n",
       "      <td>77.5</td>\n",
       "      <td>1</td>\n",
       "      <td>33.263527</td>\n",
       "      <td>33.309700</td>\n",
       "      <td>NaN</td>\n",
       "      <td>33.309700</td>\n",
       "      <td>33.309700</td>\n",
       "      <td>NaN</td>\n",
       "    </tr>\n",
       "    <tr>\n",
       "      <th>4</th>\n",
       "      <td>8.0</td>\n",
       "      <td>93.0</td>\n",
       "      <td>0</td>\n",
       "      <td>31.805935</td>\n",
       "      <td>31.811674</td>\n",
       "      <td>NaN</td>\n",
       "      <td>31.811680</td>\n",
       "      <td>NaN</td>\n",
       "      <td>NaN</td>\n",
       "    </tr>\n",
       "    <tr>\n",
       "      <th>5</th>\n",
       "      <td>8.0</td>\n",
       "      <td>93.5</td>\n",
       "      <td>0</td>\n",
       "      <td>31.816368</td>\n",
       "      <td>31.811676</td>\n",
       "      <td>NaN</td>\n",
       "      <td>31.811680</td>\n",
       "      <td>31.811677</td>\n",
       "      <td>NaN</td>\n",
       "    </tr>\n",
       "    <tr>\n",
       "      <th>6</th>\n",
       "      <td>8.5</td>\n",
       "      <td>73.0</td>\n",
       "      <td>0</td>\n",
       "      <td>32.494670</td>\n",
       "      <td>32.499886</td>\n",
       "      <td>NaN</td>\n",
       "      <td>NaN</td>\n",
       "      <td>NaN</td>\n",
       "      <td>NaN</td>\n",
       "    </tr>\n",
       "    <tr>\n",
       "      <th>7</th>\n",
       "      <td>8.5</td>\n",
       "      <td>76.5</td>\n",
       "      <td>0</td>\n",
       "      <td>33.339620</td>\n",
       "      <td>33.309700</td>\n",
       "      <td>NaN</td>\n",
       "      <td>33.309700</td>\n",
       "      <td>NaN</td>\n",
       "      <td>NaN</td>\n",
       "    </tr>\n",
       "    <tr>\n",
       "      <th>8</th>\n",
       "      <td>8.5</td>\n",
       "      <td>77.0</td>\n",
       "      <td>1</td>\n",
       "      <td>32.756073</td>\n",
       "      <td>32.988842</td>\n",
       "      <td>NaN</td>\n",
       "      <td>33.309700</td>\n",
       "      <td>33.309700</td>\n",
       "      <td>NaN</td>\n",
       "    </tr>\n",
       "    <tr>\n",
       "      <th>9</th>\n",
       "      <td>8.5</td>\n",
       "      <td>77.5</td>\n",
       "      <td>1</td>\n",
       "      <td>33.309700</td>\n",
       "      <td>33.309700</td>\n",
       "      <td>NaN</td>\n",
       "      <td>NaN</td>\n",
       "      <td>33.309700</td>\n",
       "      <td>NaN</td>\n",
       "    </tr>\n",
       "  </tbody>\n",
       "</table>\n",
       "</div>"
      ],
      "text/plain": [
       "   lat   lon  ind_lat_lon        imd        IDW  bilinear     boxavg  \\\n",
       "0  7.5  93.5            0  31.815086  31.815086       NaN  31.815086   \n",
       "1  7.5  94.0            0  31.819885  31.812988       NaN  31.815086   \n",
       "2  8.0  77.0            1  32.734340  33.309700       NaN  33.309700   \n",
       "3  8.0  77.5            1  33.263527  33.309700       NaN  33.309700   \n",
       "4  8.0  93.0            0  31.805935  31.811674       NaN  31.811680   \n",
       "5  8.0  93.5            0  31.816368  31.811676       NaN  31.811680   \n",
       "6  8.5  73.0            0  32.494670  32.499886       NaN        NaN   \n",
       "7  8.5  76.5            0  33.339620  33.309700       NaN  33.309700   \n",
       "8  8.5  77.0            1  32.756073  32.988842       NaN  33.309700   \n",
       "9  8.5  77.5            1  33.309700  33.309700       NaN        NaN   \n",
       "\n",
       "        aave  bessel  \n",
       "0  31.815086     NaN  \n",
       "1  31.815086     NaN  \n",
       "2        NaN     NaN  \n",
       "3  33.309700     NaN  \n",
       "4        NaN     NaN  \n",
       "5  31.811677     NaN  \n",
       "6        NaN     NaN  \n",
       "7        NaN     NaN  \n",
       "8  33.309700     NaN  \n",
       "9  33.309700     NaN  "
      ]
     },
     "execution_count": 34,
     "metadata": {},
     "output_type": "execute_result"
    }
   ],
   "source": [
    "df = pd.read_excel('C:\\\\cygwin64\\\\home\\\\Grid_data_IMD_Final\\\\diff_months\\\\aug_2020\\\\min_max29\\\\max_comparison.xlsx', 'Sheet2')\n",
    "df.head(10)"
   ]
  },
  {
   "cell_type": "code",
   "execution_count": 35,
   "metadata": {},
   "outputs": [
    {
     "data": {
      "text/html": [
       "<div>\n",
       "<style scoped>\n",
       "    .dataframe tbody tr th:only-of-type {\n",
       "        vertical-align: middle;\n",
       "    }\n",
       "\n",
       "    .dataframe tbody tr th {\n",
       "        vertical-align: top;\n",
       "    }\n",
       "\n",
       "    .dataframe thead th {\n",
       "        text-align: right;\n",
       "    }\n",
       "</style>\n",
       "<table border=\"1\" class=\"dataframe\">\n",
       "  <thead>\n",
       "    <tr style=\"text-align: right;\">\n",
       "      <th></th>\n",
       "      <th>imd</th>\n",
       "      <th>IDW</th>\n",
       "      <th>bilinear</th>\n",
       "      <th>boxavg</th>\n",
       "      <th>aave</th>\n",
       "      <th>bessel</th>\n",
       "    </tr>\n",
       "  </thead>\n",
       "  <tbody>\n",
       "    <tr>\n",
       "      <th>0</th>\n",
       "      <td>31.815086</td>\n",
       "      <td>31.815086</td>\n",
       "      <td>NaN</td>\n",
       "      <td>31.815086</td>\n",
       "      <td>31.815086</td>\n",
       "      <td>NaN</td>\n",
       "    </tr>\n",
       "    <tr>\n",
       "      <th>1</th>\n",
       "      <td>31.819885</td>\n",
       "      <td>31.812988</td>\n",
       "      <td>NaN</td>\n",
       "      <td>31.815086</td>\n",
       "      <td>31.815086</td>\n",
       "      <td>NaN</td>\n",
       "    </tr>\n",
       "    <tr>\n",
       "      <th>2</th>\n",
       "      <td>32.734340</td>\n",
       "      <td>33.309700</td>\n",
       "      <td>NaN</td>\n",
       "      <td>33.309700</td>\n",
       "      <td>NaN</td>\n",
       "      <td>NaN</td>\n",
       "    </tr>\n",
       "    <tr>\n",
       "      <th>3</th>\n",
       "      <td>33.263527</td>\n",
       "      <td>33.309700</td>\n",
       "      <td>NaN</td>\n",
       "      <td>33.309700</td>\n",
       "      <td>33.309700</td>\n",
       "      <td>NaN</td>\n",
       "    </tr>\n",
       "    <tr>\n",
       "      <th>4</th>\n",
       "      <td>31.805935</td>\n",
       "      <td>31.811674</td>\n",
       "      <td>NaN</td>\n",
       "      <td>31.811680</td>\n",
       "      <td>NaN</td>\n",
       "      <td>NaN</td>\n",
       "    </tr>\n",
       "    <tr>\n",
       "      <th>...</th>\n",
       "      <td>...</td>\n",
       "      <td>...</td>\n",
       "      <td>...</td>\n",
       "      <td>...</td>\n",
       "      <td>...</td>\n",
       "      <td>...</td>\n",
       "    </tr>\n",
       "    <tr>\n",
       "      <th>1388</th>\n",
       "      <td>23.017330</td>\n",
       "      <td>23.017330</td>\n",
       "      <td>23.017815</td>\n",
       "      <td>23.017839</td>\n",
       "      <td>23.017330</td>\n",
       "      <td>NaN</td>\n",
       "    </tr>\n",
       "    <tr>\n",
       "      <th>1389</th>\n",
       "      <td>24.631440</td>\n",
       "      <td>24.631817</td>\n",
       "      <td>24.631039</td>\n",
       "      <td>24.631039</td>\n",
       "      <td>24.631803</td>\n",
       "      <td>24.631810</td>\n",
       "    </tr>\n",
       "    <tr>\n",
       "      <th>1390</th>\n",
       "      <td>24.638630</td>\n",
       "      <td>24.355167</td>\n",
       "      <td>24.636333</td>\n",
       "      <td>24.636333</td>\n",
       "      <td>24.638469</td>\n",
       "      <td>24.638474</td>\n",
       "    </tr>\n",
       "    <tr>\n",
       "      <th>1391</th>\n",
       "      <td>24.646765</td>\n",
       "      <td>23.828144</td>\n",
       "      <td>24.641628</td>\n",
       "      <td>24.641628</td>\n",
       "      <td>23.828145</td>\n",
       "      <td>23.828145</td>\n",
       "    </tr>\n",
       "    <tr>\n",
       "      <th>1392</th>\n",
       "      <td>23.017260</td>\n",
       "      <td>23.298737</td>\n",
       "      <td>23.827847</td>\n",
       "      <td>23.827847</td>\n",
       "      <td>23.017821</td>\n",
       "      <td>23.017815</td>\n",
       "    </tr>\n",
       "  </tbody>\n",
       "</table>\n",
       "<p>1393 rows × 6 columns</p>\n",
       "</div>"
      ],
      "text/plain": [
       "            imd        IDW   bilinear     boxavg       aave     bessel\n",
       "0     31.815086  31.815086        NaN  31.815086  31.815086        NaN\n",
       "1     31.819885  31.812988        NaN  31.815086  31.815086        NaN\n",
       "2     32.734340  33.309700        NaN  33.309700        NaN        NaN\n",
       "3     33.263527  33.309700        NaN  33.309700  33.309700        NaN\n",
       "4     31.805935  31.811674        NaN  31.811680        NaN        NaN\n",
       "...         ...        ...        ...        ...        ...        ...\n",
       "1388  23.017330  23.017330  23.017815  23.017839  23.017330        NaN\n",
       "1389  24.631440  24.631817  24.631039  24.631039  24.631803  24.631810\n",
       "1390  24.638630  24.355167  24.636333  24.636333  24.638469  24.638474\n",
       "1391  24.646765  23.828144  24.641628  24.641628  23.828145  23.828145\n",
       "1392  23.017260  23.298737  23.827847  23.827847  23.017821  23.017815\n",
       "\n",
       "[1393 rows x 6 columns]"
      ]
     },
     "execution_count": 35,
     "metadata": {},
     "output_type": "execute_result"
    }
   ],
   "source": [
    "data = df[['imd', 'IDW', 'bilinear', 'boxavg', 'aave', 'bessel']]\n",
    "data"
   ]
  },
  {
   "cell_type": "markdown",
   "metadata": {},
   "source": [
    "**Total Entries**"
   ]
  },
  {
   "cell_type": "code",
   "execution_count": 36,
   "metadata": {},
   "outputs": [
    {
     "name": "stdout",
     "output_type": "stream",
     "text": [
      "<class 'pandas.core.frame.DataFrame'>\n",
      "RangeIndex: 1393 entries, 0 to 1392\n",
      "Data columns (total 9 columns):\n",
      " #   Column       Non-Null Count  Dtype  \n",
      "---  ------       --------------  -----  \n",
      " 0   lat          1393 non-null   float64\n",
      " 1   lon          1393 non-null   float64\n",
      " 2   ind_lat_lon  1393 non-null   int64  \n",
      " 3   imd          1393 non-null   float64\n",
      " 4   IDW          1384 non-null   float64\n",
      " 5   bilinear     504 non-null    float64\n",
      " 6   boxavg       741 non-null    float64\n",
      " 7   aave         1327 non-null   float64\n",
      " 8   bessel       1131 non-null   float64\n",
      "dtypes: float64(8), int64(1)\n",
      "memory usage: 98.1 KB\n"
     ]
    }
   ],
   "source": [
    "df.info()"
   ]
  },
  {
   "cell_type": "markdown",
   "metadata": {},
   "source": [
    "**Missing Values**"
   ]
  },
  {
   "cell_type": "code",
   "execution_count": 37,
   "metadata": {},
   "outputs": [],
   "source": [
    "m = 0"
   ]
  },
  {
   "cell_type": "code",
   "execution_count": 38,
   "metadata": {},
   "outputs": [
    {
     "data": {
      "text/plain": [
       "9"
      ]
     },
     "execution_count": 38,
     "metadata": {},
     "output_type": "execute_result"
    }
   ],
   "source": [
    "#IDW\n",
    "m1 = df['imd'].count() - df['IDW'].count()\n",
    "m1"
   ]
  },
  {
   "cell_type": "code",
   "execution_count": 39,
   "metadata": {},
   "outputs": [
    {
     "data": {
      "text/plain": [
       "889"
      ]
     },
     "execution_count": 39,
     "metadata": {},
     "output_type": "execute_result"
    }
   ],
   "source": [
    "#bilinear\n",
    "m2 = df['imd'].count() - df['bilinear'].count()\n",
    "m2"
   ]
  },
  {
   "cell_type": "code",
   "execution_count": 40,
   "metadata": {},
   "outputs": [
    {
     "data": {
      "text/plain": [
       "652"
      ]
     },
     "execution_count": 40,
     "metadata": {},
     "output_type": "execute_result"
    }
   ],
   "source": [
    "#boxavg\n",
    "m3 = df['imd'].count() - df['boxavg'].count()\n",
    "m3"
   ]
  },
  {
   "cell_type": "code",
   "execution_count": 41,
   "metadata": {},
   "outputs": [
    {
     "data": {
      "text/plain": [
       "66"
      ]
     },
     "execution_count": 41,
     "metadata": {},
     "output_type": "execute_result"
    }
   ],
   "source": [
    "#aave\n",
    "m4 = df['imd'].count() - df['aave'].count()\n",
    "m4"
   ]
  },
  {
   "cell_type": "code",
   "execution_count": 42,
   "metadata": {},
   "outputs": [
    {
     "data": {
      "text/plain": [
       "262"
      ]
     },
     "execution_count": 42,
     "metadata": {},
     "output_type": "execute_result"
    }
   ],
   "source": [
    "#bessel\n",
    "m5 = df['imd'].count() - df['bessel'].count()\n",
    "m5"
   ]
  },
  {
   "cell_type": "markdown",
   "metadata": {},
   "source": [
    "**RMSE**"
   ]
  },
  {
   "cell_type": "code",
   "execution_count": 43,
   "metadata": {},
   "outputs": [],
   "source": [
    "#rms = 0"
   ]
  },
  {
   "cell_type": "code",
   "execution_count": 44,
   "metadata": {},
   "outputs": [
    {
     "data": {
      "text/plain": [
       "1393"
      ]
     },
     "execution_count": 44,
     "metadata": {},
     "output_type": "execute_result"
    }
   ],
   "source": [
    "df['IDW'] = df['IDW'].fillna(0)\n",
    "df['IDW'].count()"
   ]
  },
  {
   "cell_type": "code",
   "execution_count": 45,
   "metadata": {},
   "outputs": [
    {
     "name": "stdout",
     "output_type": "stream",
     "text": [
      "Root mean square error for IDW(CDO)_max_temp:  2.6848401943517466\n"
     ]
    }
   ],
   "source": [
    "#IDW\n",
    "actual = df['imd']\n",
    "predicted = df['IDW']\n",
    "\n",
    "mse = mean_squared_error(actual, predicted)\n",
    "rmse = math.sqrt(mse)\n",
    "\n",
    "print('Root mean square error for IDW(CDO)_max_temp: ', rmse)"
   ]
  },
  {
   "cell_type": "code",
   "execution_count": 46,
   "metadata": {},
   "outputs": [
    {
     "data": {
      "text/plain": [
       "1393"
      ]
     },
     "execution_count": 46,
     "metadata": {},
     "output_type": "execute_result"
    }
   ],
   "source": [
    "df['bilinear'] = df['bilinear'].fillna(0)\n",
    "df['bilinear'].count()"
   ]
  },
  {
   "cell_type": "code",
   "execution_count": 47,
   "metadata": {},
   "outputs": [
    {
     "name": "stdout",
     "output_type": "stream",
     "text": [
      "Root mean square error for bilinear(CDO/grads)_max_temp:  24.56789984173033\n"
     ]
    }
   ],
   "source": [
    "#bilinear\n",
    "actual1 = df['imd']\n",
    "predicted1 = df['bilinear'].dropna()\n",
    "\n",
    "mse = mean_squared_error(actual1, predicted1)\n",
    "rmse1 = math.sqrt(mse)\n",
    "\n",
    "print('Root mean square error for bilinear(CDO/grads)_max_temp: ', rmse1)"
   ]
  },
  {
   "cell_type": "code",
   "execution_count": 48,
   "metadata": {},
   "outputs": [
    {
     "data": {
      "text/plain": [
       "1393"
      ]
     },
     "execution_count": 48,
     "metadata": {},
     "output_type": "execute_result"
    }
   ],
   "source": [
    "df['boxavg'] = df['boxavg'].fillna(0)\n",
    "df['boxavg'].count()"
   ]
  },
  {
   "cell_type": "code",
   "execution_count": 49,
   "metadata": {},
   "outputs": [
    {
     "name": "stdout",
     "output_type": "stream",
     "text": [
      "Root mean square error for boxavg(grads)_max_temp:  21.2315565624809\n"
     ]
    }
   ],
   "source": [
    "#boxavg\n",
    "actual1 = df['imd']\n",
    "predicted1 = df['boxavg'].dropna()\n",
    "\n",
    "mse = mean_squared_error(actual1, predicted1)\n",
    "rmse2 = math.sqrt(mse)\n",
    "\n",
    "print('Root mean square error for boxavg(grads)_max_temp: ', rmse2)"
   ]
  },
  {
   "cell_type": "code",
   "execution_count": 50,
   "metadata": {},
   "outputs": [
    {
     "data": {
      "text/plain": [
       "1393"
      ]
     },
     "execution_count": 50,
     "metadata": {},
     "output_type": "execute_result"
    }
   ],
   "source": [
    "df['aave'] = df['aave'].fillna(0)\n",
    "df['aave'].count()"
   ]
  },
  {
   "cell_type": "code",
   "execution_count": 51,
   "metadata": {},
   "outputs": [
    {
     "name": "stdout",
     "output_type": "stream",
     "text": [
      "Root mean square error for aave(grads)_max_temp:  6.943564588775049\n"
     ]
    }
   ],
   "source": [
    "#aave\n",
    "actual1 = df['imd']\n",
    "predicted1 = df['aave'].dropna()\n",
    "\n",
    "mse = mean_squared_error(actual1, predicted1)\n",
    "rmse3 = math.sqrt(mse)\n",
    "\n",
    "print('Root mean square error for aave(grads)_max_temp: ', rmse3)"
   ]
  },
  {
   "cell_type": "code",
   "execution_count": 52,
   "metadata": {},
   "outputs": [
    {
     "data": {
      "text/plain": [
       "1393"
      ]
     },
     "execution_count": 52,
     "metadata": {},
     "output_type": "execute_result"
    }
   ],
   "source": [
    "df['bessel'] = df['bessel'].fillna(0)\n",
    "df['bessel'].count()"
   ]
  },
  {
   "cell_type": "code",
   "execution_count": 53,
   "metadata": {},
   "outputs": [
    {
     "name": "stdout",
     "output_type": "stream",
     "text": [
      "Root mean square error for aave(grads)_max_temp:  13.622328352344475\n"
     ]
    }
   ],
   "source": [
    "#bessel\n",
    "actual1 = df['imd']\n",
    "predicted1 = df['bessel'].dropna()\n",
    "\n",
    "mse = mean_squared_error(actual1, predicted1)\n",
    "rmse4 = math.sqrt(mse)\n",
    "\n",
    "print('Root mean square error for aave(grads)_max_temp: ', rmse4)"
   ]
  },
  {
   "cell_type": "code",
   "execution_count": 54,
   "metadata": {},
   "outputs": [
    {
     "data": {
      "text/plain": [
       "imd         1393\n",
       "IDW         1384\n",
       "bilinear     504\n",
       "boxavg       741\n",
       "aave        1327\n",
       "bessel      1131\n",
       "dtype: int64"
      ]
     },
     "execution_count": 54,
     "metadata": {},
     "output_type": "execute_result"
    }
   ],
   "source": [
    "df1 = data.count()\n",
    "df1"
   ]
  },
  {
   "cell_type": "markdown",
   "metadata": {},
   "source": [
    "**Graphs**"
   ]
  },
  {
   "cell_type": "code",
   "execution_count": 55,
   "metadata": {},
   "outputs": [],
   "source": [
    "models = ['IDW', 'bilinear', 'boxavg', 'aave', 'bessel']"
   ]
  },
  {
   "cell_type": "code",
   "execution_count": 56,
   "metadata": {},
   "outputs": [
    {
     "data": {
      "text/plain": [
       "[2.6848401943517466,\n",
       " 24.56789984173033,\n",
       " 21.2315565624809,\n",
       " 6.943564588775049,\n",
       " 13.622328352344475]"
      ]
     },
     "execution_count": 56,
     "metadata": {},
     "output_type": "execute_result"
    }
   ],
   "source": [
    "rmse_models = [rmse, rmse1, rmse2, rmse3, rmse4]\n",
    "rmse_models"
   ]
  },
  {
   "cell_type": "code",
   "execution_count": 57,
   "metadata": {},
   "outputs": [
    {
     "data": {
      "text/plain": [
       "array([ 2.68, 24.57, 21.23,  6.94, 13.62])"
      ]
     },
     "execution_count": 57,
     "metadata": {},
     "output_type": "execute_result"
    }
   ],
   "source": [
    "#round RMSE values upto 2 decimal points\n",
    "arr = np.round(rmse_models, 2)\n",
    "arr"
   ]
  },
  {
   "cell_type": "code",
   "execution_count": 58,
   "metadata": {},
   "outputs": [],
   "source": [
    "#arr2 = list(arr)\n",
    "#arr2"
   ]
  },
  {
   "cell_type": "code",
   "execution_count": 59,
   "metadata": {},
   "outputs": [
    {
     "data": {
      "image/png": "[encoded data removed]",
      "text/plain": [
       "<Figure size 720x504 with 1 Axes>"
      ]
     },
     "metadata": {
      "needs_background": "light"
     },
     "output_type": "display_data"
    }
   ],
   "source": [
    "fig1 = plt.figure(figsize=(10,7))\n",
    "ax = fig1.add_subplot(111)\n",
    "plt.plot(models, arr, color='red', marker='o')\n",
    "plt.title('RMSE max1_29082020', fontsize=15)\n",
    "plt.ylabel('RMSE values')\n",
    "plt.grid(True)  \n",
    "\n",
    "for xy in zip(models, arr):                                     \n",
    "    ax.annotate('(%s, %s)' % xy, xy=xy, textcoords='data')\n",
    "\n",
    "plt.show()"
   ]
  },
  {
   "cell_type": "code",
   "execution_count": 60,
   "metadata": {},
   "outputs": [
    {
     "data": {
      "text/plain": [
       "[0, 9, 889, 652, 66, 262]"
      ]
     },
     "execution_count": 60,
     "metadata": {},
     "output_type": "execute_result"
    }
   ],
   "source": [
    "missing = [m, m1, m2, m3, m4, m5]\n",
    "missing "
   ]
  },
  {
   "cell_type": "code",
   "execution_count": 61,
   "metadata": {},
   "outputs": [],
   "source": [
    "d = {'Total Entries': df1, 'Missing Entries': missing}"
   ]
  },
  {
   "cell_type": "code",
   "execution_count": 62,
   "metadata": {},
   "outputs": [
    {
     "data": {
      "text/html": [
       "<div>\n",
       "<style scoped>\n",
       "    .dataframe tbody tr th:only-of-type {\n",
       "        vertical-align: middle;\n",
       "    }\n",
       "\n",
       "    .dataframe tbody tr th {\n",
       "        vertical-align: top;\n",
       "    }\n",
       "\n",
       "    .dataframe thead th {\n",
       "        text-align: right;\n",
       "    }\n",
       "</style>\n",
       "<table border=\"1\" class=\"dataframe\">\n",
       "  <thead>\n",
       "    <tr style=\"text-align: right;\">\n",
       "      <th></th>\n",
       "      <th>Total Entries</th>\n",
       "      <th>Missing Entries</th>\n",
       "    </tr>\n",
       "  </thead>\n",
       "  <tbody>\n",
       "    <tr>\n",
       "      <th>imd</th>\n",
       "      <td>1393</td>\n",
       "      <td>0</td>\n",
       "    </tr>\n",
       "    <tr>\n",
       "      <th>IDW</th>\n",
       "      <td>1384</td>\n",
       "      <td>9</td>\n",
       "    </tr>\n",
       "    <tr>\n",
       "      <th>bilinear</th>\n",
       "      <td>504</td>\n",
       "      <td>889</td>\n",
       "    </tr>\n",
       "    <tr>\n",
       "      <th>boxavg</th>\n",
       "      <td>741</td>\n",
       "      <td>652</td>\n",
       "    </tr>\n",
       "    <tr>\n",
       "      <th>aave</th>\n",
       "      <td>1327</td>\n",
       "      <td>66</td>\n",
       "    </tr>\n",
       "    <tr>\n",
       "      <th>bessel</th>\n",
       "      <td>1131</td>\n",
       "      <td>262</td>\n",
       "    </tr>\n",
       "  </tbody>\n",
       "</table>\n",
       "</div>"
      ],
      "text/plain": [
       "          Total Entries  Missing Entries\n",
       "imd                1393                0\n",
       "IDW                1384                9\n",
       "bilinear            504              889\n",
       "boxavg              741              652\n",
       "aave               1327               66\n",
       "bessel             1131              262"
      ]
     },
     "execution_count": 62,
     "metadata": {},
     "output_type": "execute_result"
    }
   ],
   "source": [
    "df2 = pd.DataFrame(data=d)\n",
    "df2"
   ]
  },
  {
   "cell_type": "code",
   "execution_count": 63,
   "metadata": {},
   "outputs": [
    {
     "data": {
      "image/png": "[encoded data removed]",
      "text/plain": [
       "<Figure size 720x504 with 1 Axes>"
      ]
     },
     "metadata": {
      "needs_background": "light"
     },
     "output_type": "display_data"
    }
   ],
   "source": [
    "fig = df2.plot( kind = 'bar', stacked = True, title = 'max1_29082020', mark_right = True, figsize=(10,7))\n",
    "fig.legend(bbox_to_anchor=(1.05, 1), loc='upper left', borderaxespad=0.)  \n",
    "\n",
    "for index,df1 in enumerate(df2.values):\n",
    "    plt.text(x = index , y = index , s=f\"{df1}\" , fontdict=dict(fontsize=12), backgroundcolor='coral', color ='maroon', fontweight = 'bold', va = 'bottom', ha = 'center')"
   ]
  },
  {
   "cell_type": "code",
   "execution_count": 64,
   "metadata": {},
   "outputs": [],
   "source": [
    "fig.figure.savefig('C:\\\\cygwin64\\\\home\\\\Grid_data_IMD_Final\\\\diff_months\\\\aug_2020\\\\min_max29\\\\max1_29082020.png')"
   ]
  },
  {
   "cell_type": "code",
   "execution_count": 65,
   "metadata": {},
   "outputs": [],
   "source": [
    "fig1.savefig('C:\\\\cygwin64\\\\home\\\\Grid_data_IMD_Final\\\\diff_months\\\\aug_2020\\\\min_max29\\\\max1_29082020_rmsegraph.png')"
   ]
  },
  {
   "cell_type": "code",
   "execution_count": null,
   "metadata": {},
   "outputs": [],
   "source": []
  },
  {
   "cell_type": "code",
   "execution_count": null,
   "metadata": {},
   "outputs": [],
   "source": []
  }
 ],
 "metadata": {
  "kernelspec": {
   "display_name": "Python 3",
   "language": "python",
   "name": "python3"
  },
  "language_info": {
   "codemirror_mode": {
    "name": "ipython",
    "version": 3
   },
   "file_extension": ".py",
   "mimetype": "text/x-python",
   "name": "python",
   "nbconvert_exporter": "python",
   "pygments_lexer": "ipython3",
   "version": "3.8.5"
  }
 },
 "nbformat": 4,
 "nbformat_minor": 4
}
